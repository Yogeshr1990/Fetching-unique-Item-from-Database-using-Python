{
 "cells": [
  {
   "cell_type": "markdown",
   "id": "5c0eb0a3",
   "metadata": {},
   "source": [
    "### List with multiple duplicate items and using while loop adding unique elements in another new list"
   ]
  },
  {
   "cell_type": "code",
   "execution_count": 2,
   "id": "9618d879",
   "metadata": {},
   "outputs": [],
   "source": [
    "a = ['Apple','Ball','Cat','Dog','Elephant','Apple','Ball','Dog','Tiger','Cat']"
   ]
  },
  {
   "cell_type": "code",
   "execution_count": 3,
   "id": "4165d2d1",
   "metadata": {},
   "outputs": [
    {
     "name": "stdout",
     "output_type": "stream",
     "text": [
      "['Apple', 'Ball', 'Cat', 'Dog', 'Elephant', 'Tiger']\n"
     ]
    }
   ],
   "source": [
    "i = 0\n",
    "plist = []\n",
    "while i < len(a):\n",
    "    if a[i] not in plist:\n",
    "        plist.append(a[i])\n",
    "    i = i+1\n",
    "print(plist)"
   ]
  }
 ],
 "metadata": {
  "kernelspec": {
   "display_name": "Python 3 (ipykernel)",
   "language": "python",
   "name": "python3"
  },
  "language_info": {
   "codemirror_mode": {
    "name": "ipython",
    "version": 3
   },
   "file_extension": ".py",
   "mimetype": "text/x-python",
   "name": "python",
   "nbconvert_exporter": "python",
   "pygments_lexer": "ipython3",
   "version": "3.9.7"
  }
 },
 "nbformat": 4,
 "nbformat_minor": 5
}
